{
 "cells": [
  {
   "cell_type": "code",
   "execution_count": 70,
   "metadata": {},
   "outputs": [
    {
     "name": "stdout",
     "output_type": "stream",
     "text": [
      "Conectado ao Banco de dados\n"
     ]
    },
    {
     "name": "stderr",
     "output_type": "stream",
     "text": [
      "C:\\Users\\gabri\\AppData\\Local\\Temp\\ipykernel_8556\\1828907175.py:16: UserWarning: pandas only supports SQLAlchemy connectable (engine/connection) or database string URI or sqlite3 DBAPI2 connection. Other DBAPI2 objects are not tested. Please consider using SQLAlchemy.\n",
      "  itens_pedido = pd.read_sql_query(\"SELECT * FROM itens_pedido LIMIT 25057;\", cnx)\n",
      "C:\\Users\\gabri\\AppData\\Local\\Temp\\ipykernel_8556\\1828907175.py:17: UserWarning: pandas only supports SQLAlchemy connectable (engine/connection) or database string URI or sqlite3 DBAPI2 connection. Other DBAPI2 objects are not tested. Please consider using SQLAlchemy.\n",
      "  pedido = pd.read_sql_query(\"SELECT * FROM pedido LIMIT 25056;\", cnx)\n",
      "C:\\Users\\gabri\\AppData\\Local\\Temp\\ipykernel_8556\\1828907175.py:18: UserWarning: pandas only supports SQLAlchemy connectable (engine/connection) or database string URI or sqlite3 DBAPI2 connection. Other DBAPI2 objects are not tested. Please consider using SQLAlchemy.\n",
      "  produto = pd.read_sql_query(\"SELECT * FROM produto LIMIT 205;\", cnx)\n",
      "C:\\Users\\gabri\\AppData\\Local\\Temp\\ipykernel_8556\\1828907175.py:19: UserWarning: pandas only supports SQLAlchemy connectable (engine/connection) or database string URI or sqlite3 DBAPI2 connection. Other DBAPI2 objects are not tested. Please consider using SQLAlchemy.\n",
      "  vendedores = pd.read_sql_query(\"SELECT * FROM vendedores LIMIT 1000;\", cnx)\n"
     ]
    }
   ],
   "source": [
    "import pandas as pd\n",
    "import mysql.connector\n",
    "\n",
    "\n",
    "cnx = mysql.connector.connect(\n",
    "    host = \"xxxxxxxx\",\n",
    "    user = \"xxxxxxx\",\n",
    "    password = \"xxxxxxx\",\n",
    "    database = \"xxxxxx\"\n",
    "    )\n",
    "\n",
    "\n",
    "if cnx.is_connected():\n",
    "    print(\"Conectado ao Banco de dados\")\n",
    "\n",
    "itens_pedido = pd.read_sql_query(\"SELECT * FROM itens_pedido LIMIT 25057;\", cnx)\n",
    "pedido = pd.read_sql_query(\"SELECT * FROM pedido LIMIT 25056;\", cnx)\n",
    "produto = pd.read_sql_query(\"SELECT * FROM produto LIMIT 205;\", cnx)\n",
    "vendedores = pd.read_sql_query(\"SELECT * FROM vendedores LIMIT 1000;\", cnx)\n",
    "\n",
    "\n",
    "cnx.close()\n"
   ]
  },
  {
   "cell_type": "code",
   "execution_count": 71,
   "metadata": {},
   "outputs": [
    {
     "name": "stdout",
     "output_type": "stream",
     "text": [
      "A quantidade de dados nulos na tabela itens_pedido é 3\n",
      "A quantidade de dados nulos na tabela pedido é 529\n",
      "A quantidade de dados nulos na tabela produto é 0\n",
      "A quantidade de dados nulos na tabela vendedores é 0\n"
     ]
    }
   ],
   "source": [
    "df_list = {\"itens_pedido\":itens_pedido, \"pedido\":pedido, \"produto\":produto, \"vendedores\":vendedores}\n",
    "\n",
    "for name, df in df_list.items():\n",
    "    print(f\"A quantidade de dados nulos na tabela {name} é {df.isna().sum().sum()}\") "
   ]
  },
  {
   "cell_type": "code",
   "execution_count": 77,
   "metadata": {},
   "outputs": [
    {
     "data": {
      "text/plain": [
       "produto_id        0\n",
       "pedido_id         1\n",
       "quantidade        1\n",
       "valor_unitario    0\n",
       "valor_total       0\n",
       "estado            0\n",
       "frete             0\n",
       "id_nf             1\n",
       "dtype: int64"
      ]
     },
     "execution_count": 77,
     "metadata": {},
     "output_type": "execute_result"
    }
   ],
   "source": [
    "itens_pedido.isna().sum()"
   ]
  },
  {
   "cell_type": "code",
   "execution_count": 78,
   "metadata": {},
   "outputs": [
    {
     "data": {
      "text/html": [
       "<div>\n",
       "<style scoped>\n",
       "    .dataframe tbody tr th:only-of-type {\n",
       "        vertical-align: middle;\n",
       "    }\n",
       "\n",
       "    .dataframe tbody tr th {\n",
       "        vertical-align: top;\n",
       "    }\n",
       "\n",
       "    .dataframe thead th {\n",
       "        text-align: right;\n",
       "    }\n",
       "</style>\n",
       "<table border=\"1\" class=\"dataframe\">\n",
       "  <thead>\n",
       "    <tr style=\"text-align: right;\">\n",
       "      <th></th>\n",
       "      <th>produto_id</th>\n",
       "      <th>pedido_id</th>\n",
       "      <th>quantidade</th>\n",
       "      <th>valor_unitario</th>\n",
       "      <th>valor_total</th>\n",
       "      <th>estado</th>\n",
       "      <th>frete</th>\n",
       "      <th>id_nf</th>\n",
       "    </tr>\n",
       "  </thead>\n",
       "  <tbody>\n",
       "    <tr>\n",
       "      <th>25056</th>\n",
       "      <td>66</td>\n",
       "      <td>NaN</td>\n",
       "      <td>NaN</td>\n",
       "      <td>399.0</td>\n",
       "      <td>0.0</td>\n",
       "      <td></td>\n",
       "      <td>0.0</td>\n",
       "      <td>NaN</td>\n",
       "    </tr>\n",
       "  </tbody>\n",
       "</table>\n",
       "</div>"
      ],
      "text/plain": [
       "       produto_id  pedido_id  quantidade  valor_unitario  valor_total estado   \n",
       "25056          66        NaN         NaN           399.0          0.0         \\\n",
       "\n",
       "       frete  id_nf  \n",
       "25056    0.0    NaN  "
      ]
     },
     "execution_count": 78,
     "metadata": {},
     "output_type": "execute_result"
    }
   ],
   "source": [
    "itens_pedido[itens_pedido.pedido_id.isna()]"
   ]
  },
  {
   "attachments": {},
   "cell_type": "markdown",
   "metadata": {},
   "source": [
    "Todos os valores nulos do dataframe itens_pedido estão em um único pedido, então irei remover esse registro do banco de dados."
   ]
  },
  {
   "cell_type": "code",
   "execution_count": 80,
   "metadata": {},
   "outputs": [
    {
     "data": {
      "text/html": [
       "<div>\n",
       "<style scoped>\n",
       "    .dataframe tbody tr th:only-of-type {\n",
       "        vertical-align: middle;\n",
       "    }\n",
       "\n",
       "    .dataframe tbody tr th {\n",
       "        vertical-align: top;\n",
       "    }\n",
       "\n",
       "    .dataframe thead th {\n",
       "        text-align: right;\n",
       "    }\n",
       "</style>\n",
       "<table border=\"1\" class=\"dataframe\">\n",
       "  <thead>\n",
       "    <tr style=\"text-align: right;\">\n",
       "      <th></th>\n",
       "      <th>pedido_id</th>\n",
       "      <th>produto_id</th>\n",
       "      <th>vendedor_id</th>\n",
       "      <th>data_compra</th>\n",
       "      <th>total</th>\n",
       "    </tr>\n",
       "  </thead>\n",
       "  <tbody>\n",
       "    <tr>\n",
       "      <th>5</th>\n",
       "      <td>23</td>\n",
       "      <td>21429</td>\n",
       "      <td>NaN</td>\n",
       "      <td>2020-12-16</td>\n",
       "      <td>2340.0</td>\n",
       "    </tr>\n",
       "    <tr>\n",
       "      <th>90</th>\n",
       "      <td>526</td>\n",
       "      <td>6888</td>\n",
       "      <td>NaN</td>\n",
       "      <td>2020-11-25</td>\n",
       "      <td>1400.0</td>\n",
       "    </tr>\n",
       "    <tr>\n",
       "      <th>100</th>\n",
       "      <td>592</td>\n",
       "      <td>91248</td>\n",
       "      <td>NaN</td>\n",
       "      <td>2020-06-26</td>\n",
       "      <td>180.0</td>\n",
       "    </tr>\n",
       "    <tr>\n",
       "      <th>230</th>\n",
       "      <td>1372</td>\n",
       "      <td>88368</td>\n",
       "      <td>NaN</td>\n",
       "      <td>2020-06-16</td>\n",
       "      <td>1000.0</td>\n",
       "    </tr>\n",
       "    <tr>\n",
       "      <th>317</th>\n",
       "      <td>1888</td>\n",
       "      <td>100983</td>\n",
       "      <td>NaN</td>\n",
       "      <td>2020-11-25</td>\n",
       "      <td>1750.0</td>\n",
       "    </tr>\n",
       "    <tr>\n",
       "      <th>...</th>\n",
       "      <td>...</td>\n",
       "      <td>...</td>\n",
       "      <td>...</td>\n",
       "      <td>...</td>\n",
       "      <td>...</td>\n",
       "    </tr>\n",
       "    <tr>\n",
       "      <th>24856</th>\n",
       "      <td>138786</td>\n",
       "      <td>24159</td>\n",
       "      <td>NaN</td>\n",
       "      <td>2020-07-16</td>\n",
       "      <td>810.0</td>\n",
       "    </tr>\n",
       "    <tr>\n",
       "      <th>24873</th>\n",
       "      <td>138847</td>\n",
       "      <td>9981</td>\n",
       "      <td>NaN</td>\n",
       "      <td>2020-11-25</td>\n",
       "      <td>4000.0</td>\n",
       "    </tr>\n",
       "    <tr>\n",
       "      <th>25003</th>\n",
       "      <td>139684</td>\n",
       "      <td>100484</td>\n",
       "      <td>NaN</td>\n",
       "      <td>2020-12-02</td>\n",
       "      <td>960.0</td>\n",
       "    </tr>\n",
       "    <tr>\n",
       "      <th>25045</th>\n",
       "      <td>139903</td>\n",
       "      <td>5995</td>\n",
       "      <td>NaN</td>\n",
       "      <td>2020-06-26</td>\n",
       "      <td>398.0</td>\n",
       "    </tr>\n",
       "    <tr>\n",
       "      <th>25049</th>\n",
       "      <td>139943</td>\n",
       "      <td>8456</td>\n",
       "      <td>NaN</td>\n",
       "      <td>2020-07-16</td>\n",
       "      <td>2160.0</td>\n",
       "    </tr>\n",
       "  </tbody>\n",
       "</table>\n",
       "<p>529 rows × 5 columns</p>\n",
       "</div>"
      ],
      "text/plain": [
       "       pedido_id  produto_id  vendedor_id data_compra   total\n",
       "5             23       21429          NaN  2020-12-16  2340.0\n",
       "90           526        6888          NaN  2020-11-25  1400.0\n",
       "100          592       91248          NaN  2020-06-26   180.0\n",
       "230         1372       88368          NaN  2020-06-16  1000.0\n",
       "317         1888      100983          NaN  2020-11-25  1750.0\n",
       "...          ...         ...          ...         ...     ...\n",
       "24856     138786       24159          NaN  2020-07-16   810.0\n",
       "24873     138847        9981          NaN  2020-11-25  4000.0\n",
       "25003     139684      100484          NaN  2020-12-02   960.0\n",
       "25045     139903        5995          NaN  2020-06-26   398.0\n",
       "25049     139943        8456          NaN  2020-07-16  2160.0\n",
       "\n",
       "[529 rows x 5 columns]"
      ]
     },
     "execution_count": 80,
     "metadata": {},
     "output_type": "execute_result"
    }
   ],
   "source": [
    "pedido[pedido.vendedor_id.isna()]"
   ]
  },
  {
   "attachments": {},
   "cell_type": "markdown",
   "metadata": {},
   "source": [
    "Já na tabela pedido, as coluna 'vendedor_id' possuí muitos dados nulos, pressuponho que esses pedidos tenham sido feitos pelo site, e por isso não houve um vendedor para intermediar, então irei adicionar a opção de \"usuário\" na lista de vendedores "
   ]
  },
  {
   "cell_type": "code",
   "execution_count": 81,
   "metadata": {},
   "outputs": [
    {
     "data": {
      "text/html": [
       "<div>\n",
       "<style scoped>\n",
       "    .dataframe tbody tr th:only-of-type {\n",
       "        vertical-align: middle;\n",
       "    }\n",
       "\n",
       "    .dataframe tbody tr th {\n",
       "        vertical-align: top;\n",
       "    }\n",
       "\n",
       "    .dataframe thead th {\n",
       "        text-align: right;\n",
       "    }\n",
       "</style>\n",
       "<table border=\"1\" class=\"dataframe\">\n",
       "  <thead>\n",
       "    <tr style=\"text-align: right;\">\n",
       "      <th></th>\n",
       "      <th>vendedor_id</th>\n",
       "      <th>nome_vendedor</th>\n",
       "    </tr>\n",
       "  </thead>\n",
       "  <tbody>\n",
       "    <tr>\n",
       "      <th>0</th>\n",
       "      <td>1</td>\n",
       "      <td>Ana Duarte</td>\n",
       "    </tr>\n",
       "    <tr>\n",
       "      <th>1</th>\n",
       "      <td>2</td>\n",
       "      <td>Daniel Siqueira</td>\n",
       "    </tr>\n",
       "    <tr>\n",
       "      <th>2</th>\n",
       "      <td>3</td>\n",
       "      <td>Nádia Oliveira</td>\n",
       "    </tr>\n",
       "    <tr>\n",
       "      <th>3</th>\n",
       "      <td>4</td>\n",
       "      <td>Millena Pereira</td>\n",
       "    </tr>\n",
       "    <tr>\n",
       "      <th>4</th>\n",
       "      <td>5</td>\n",
       "      <td>Paulo Calanca</td>\n",
       "    </tr>\n",
       "  </tbody>\n",
       "</table>\n",
       "</div>"
      ],
      "text/plain": [
       "   vendedor_id    nome_vendedor\n",
       "0            1       Ana Duarte\n",
       "1            2  Daniel Siqueira\n",
       "2            3   Nádia Oliveira\n",
       "3            4  Millena Pereira\n",
       "4            5    Paulo Calanca"
      ]
     },
     "execution_count": 81,
     "metadata": {},
     "output_type": "execute_result"
    }
   ],
   "source": [
    "vendedores"
   ]
  }
 ],
 "metadata": {
  "kernelspec": {
   "display_name": "Python 3",
   "language": "python",
   "name": "python3"
  },
  "language_info": {
   "codemirror_mode": {
    "name": "ipython",
    "version": 3
   },
   "file_extension": ".py",
   "mimetype": "text/x-python",
   "name": "python",
   "nbconvert_exporter": "python",
   "pygments_lexer": "ipython3",
   "version": "3.10.11"
  },
  "orig_nbformat": 4
 },
 "nbformat": 4,
 "nbformat_minor": 2
}
